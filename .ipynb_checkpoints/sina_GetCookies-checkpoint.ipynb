{
 "cells": [
  {
   "cell_type": "code",
   "execution_count": 3,
   "metadata": {},
   "outputs": [],
   "source": [
    "from selenium import webdriver\n",
    "from selenium.webdriver.support.wait import WebDriverWait\n",
    "import time\n",
    "import getpass\n",
    "import json"
   ]
  },
  {
   "cell_type": "code",
   "execution_count": 4,
   "metadata": {},
   "outputs": [
    {
     "name": "stdout",
     "output_type": "stream",
     "text": [
      "Account:17862702586\n",
      "Password:········\n"
     ]
    }
   ],
   "source": [
    "browser = webdriver.Chrome()\n",
    "browser.get('https://www.weibo.com/')\n",
    "account = input(\"Account:\")\n",
    "password = getpass.getpass(\"Password:\")\n",
    "wait = WebDriverWait(browser, 10)\n",
    "\n",
    "input_username = browser.find_element_by_id(\"loginname\")\n",
    "input_username.send_keys(account)\n",
    "input_password = browser.find_element_by_css_selector('.password .input_wrap .W_input')\n",
    "input_password.click()\n",
    "input_password.send_keys(password)\n",
    "\n",
    "# verify = input(\"Verify:\")\n",
    "# input_verify = browser.find_element_by_css_selector('.verify .input_wrap .W_input')\n",
    "# input_verify.send_keys(verify)\n",
    "browser.find_element_by_css_selector('.login_btn .W_btn_a').click()\n",
    "wait = WebDriverWait(browser, 10)"
   ]
  },
  {
   "cell_type": "code",
   "execution_count": 5,
   "metadata": {},
   "outputs": [],
   "source": [
    "cookies = browser.get_cookies()\n",
    "with open('cookie/sina_cookies.txt', 'w') as f:\n",
    "    f.write(json.dumps(cookies))\n",
    "    f.close()"
   ]
  },
  {
   "cell_type": "code",
   "execution_count": null,
   "metadata": {},
   "outputs": [],
   "source": []
  }
 ],
 "metadata": {
  "kernelspec": {
   "display_name": "Python 3",
   "language": "python",
   "name": "python3"
  },
  "language_info": {
   "codemirror_mode": {
    "name": "ipython",
    "version": 3
   },
   "file_extension": ".py",
   "mimetype": "text/x-python",
   "name": "python",
   "nbconvert_exporter": "python",
   "pygments_lexer": "ipython3",
   "version": "3.6.5"
  }
 },
 "nbformat": 4,
 "nbformat_minor": 2
}
