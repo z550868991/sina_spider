{
 "cells": [
  {
   "cell_type": "code",
   "execution_count": 7,
   "metadata": {},
   "outputs": [],
   "source": [
    "from selenium import webdriver\n",
    "from selenium.webdriver.support.wait import WebDriverWait\n",
    "from selenium.common.exceptions import TimeoutException,WebDriverException,NoSuchElementException\n",
    "import time\n",
    "import json"
   ]
  },
  {
   "cell_type": "code",
   "execution_count": 8,
   "metadata": {},
   "outputs": [],
   "source": [
    "def getURLs():\n",
    "    url_strs = []\n",
    "    url_str_head = 'https://weibo.com/sinapapers?is_all=1&stat_date='\n",
    "    url_str_tail = '#feedtop'\n",
    "    for i in range(3):\n",
    "        year_index = 201600\n",
    "        month_max = 12\n",
    "        if i == 1:\n",
    "            year_index = 201700\n",
    "        elif i == 2:\n",
    "            year_index = 201800\n",
    "            month_max = 10\n",
    "        for month_index in range(month_max):\n",
    "            url_str_date = year_index + (month_index+1)\n",
    "            url_str = url_str_head + str(url_str_date) + url_str_tail\n",
    "            url_strs.append(url_str)\n",
    "    return url_strs"
   ]
  },
  {
   "cell_type": "code",
   "execution_count": 99,
   "metadata": {},
   "outputs": [],
   "source": [
    "def mainWork(browser, url):\n",
    "    try:\n",
    "        try:\n",
    "            browser.get(url)\n",
    "        except TimeoutException:\n",
    "            print(url)\n",
    "            print('This is a break,next...')\n",
    "        while True:\n",
    "            try:\n",
    "                pageNum = browser.find_elements_by_css_selector('#Pl_Official_MyProfileFeed__28 .WB_feed .WB_cardwrap .W_pages .list .W_scroll ul li').__len__()\n",
    "                if pageNum != 0:\n",
    "                    break\n",
    "            except NoSuchElementException:\n",
    "                print('loading')\n",
    "            browser.execute_script('window.scrollTo(0,document.body.scrollHeight)')\n",
    "            time.sleep(2)\n",
    "        \n",
    "        for i in range(pageNum):\n",
    "            if i==15 or i==16 or i==22:\n",
    "                continue\n",
    "            y = url.split('#')\n",
    "            new_url = y[0] + '&page=' + str(i+1) + '#' + y[1]\n",
    "            print('Running:' + new_url)\n",
    "            try:\n",
    "                browser.get(new_url)\n",
    "            except TimeoutException:\n",
    "                print(url)\n",
    "                print('This is a break,next...')\n",
    "            browser.execute_script('window.scrollTo(0,document.body.scrollHeight)')\n",
    "            time.sleep(5)\n",
    "            browser.execute_script('window.scrollTo(0,document.body.scrollHeight)')\n",
    "            time.sleep(5)\n",
    "\n",
    "            weibos = browser.find_elements_by_css_selector('#Pl_Official_MyProfileFeed__28 .WB_feed .WB_cardwrap')\n",
    "            if weibos.__len__() > 0:\n",
    "                print('Done')\n",
    "            for i in range(weibos.__len__()):\n",
    "                x = weibos[i].find_elements_by_css_selector('.WB_feed_handle .WB_handle .WB_row_line li .S_txt2 .pos .S_line1 span em')\n",
    "                if x.__len__() > 5 and x[5].text != '评论':\n",
    "                    if int(x[5].text) >= 1000:\n",
    "                        with open('data/sina_discuss_over_1000_title.txt', 'a+') as f:\n",
    "                            f.write(weibos[i].find_element_by_css_selector('.WB_feed_detail .WB_detail .WB_from a').get_attribute('title') + \",\")\n",
    "                            f.write(weibos[i].find_element_by_css_selector('.WB_feed_detail .WB_detail .WB_text a').text + weibos[i].find_element_by_css_selector('.WB_feed_detail .WB_detail .WB_text').text + \",\")\n",
    "                            f.write(x[5].text + \"\\n\")\n",
    "                            f.close()\n",
    "    except WebDriverException:\n",
    "        print('Nothing,next...')"
   ]
  },
  {
   "cell_type": "code",
   "execution_count": 100,
   "metadata": {},
   "outputs": [
    {
     "name": "stdout",
     "output_type": "stream",
     "text": [
      "Running:https://weibo.com/sinapapers?is_all=1&stat_date=201808&page=1#feedtop\n",
      "Done\n",
      "Running:https://weibo.com/sinapapers?is_all=1&stat_date=201808&page=2#feedtop\n",
      "Done\n",
      "Running:https://weibo.com/sinapapers?is_all=1&stat_date=201808&page=3#feedtop\n",
      "Done\n",
      "Running:https://weibo.com/sinapapers?is_all=1&stat_date=201808&page=4#feedtop\n",
      "Done\n",
      "Running:https://weibo.com/sinapapers?is_all=1&stat_date=201808&page=5#feedtop\n",
      "Done\n",
      "Running:https://weibo.com/sinapapers?is_all=1&stat_date=201808&page=6#feedtop\n",
      "Done\n",
      "Running:https://weibo.com/sinapapers?is_all=1&stat_date=201808&page=7#feedtop\n",
      "Done\n",
      "Running:https://weibo.com/sinapapers?is_all=1&stat_date=201808&page=8#feedtop\n",
      "Done\n",
      "Running:https://weibo.com/sinapapers?is_all=1&stat_date=201808&page=9#feedtop\n",
      "Done\n",
      "Running:https://weibo.com/sinapapers?is_all=1&stat_date=201808&page=10#feedtop\n",
      "Done\n",
      "Running:https://weibo.com/sinapapers?is_all=1&stat_date=201808&page=11#feedtop\n",
      "Done\n",
      "Running:https://weibo.com/sinapapers?is_all=1&stat_date=201808&page=12#feedtop\n",
      "Done\n",
      "Running:https://weibo.com/sinapapers?is_all=1&stat_date=201808&page=13#feedtop\n",
      "Done\n",
      "Running:https://weibo.com/sinapapers?is_all=1&stat_date=201808&page=14#feedtop\n",
      "Done\n",
      "Running:https://weibo.com/sinapapers?is_all=1&stat_date=201808&page=15#feedtop\n",
      "Done\n",
      "Running:https://weibo.com/sinapapers?is_all=1&stat_date=201808&page=18#feedtop\n",
      "Done\n",
      "Running:https://weibo.com/sinapapers?is_all=1&stat_date=201808&page=19#feedtop\n",
      "Done\n",
      "Running:https://weibo.com/sinapapers?is_all=1&stat_date=201808&page=20#feedtop\n",
      "Done\n",
      "Running:https://weibo.com/sinapapers?is_all=1&stat_date=201808&page=21#feedtop\n",
      "Done\n",
      "Running:https://weibo.com/sinapapers?is_all=1&stat_date=201808&page=22#feedtop\n",
      "Done\n",
      "Running:https://weibo.com/sinapapers?is_all=1&stat_date=201808&page=23#feedtop\n",
      "Done\n",
      "Nothing,next...\n"
     ]
    }
   ],
   "source": [
    "url_add = 'https://weibo.com/sinapapers?is_all=1&stat_date=201808#feedtop'\n",
    "mainWork(browser, url_add)"
   ]
  },
  {
   "cell_type": "code",
   "execution_count": 70,
   "metadata": {},
   "outputs": [],
   "source": [
    "browser = webdriver.Chrome()\n",
    "wait = WebDriverWait(browser, 10)\n",
    "browser.get('https://weibo.com/')\n",
    "with open('cookie/sina_cookies.txt') as f:\n",
    "    cookie = f.read()\n",
    "    cookie = json.loads(cookie)\n",
    "    for c in cookie:\n",
    "        browser.add_cookie(c)\n",
    "    f.close()\n",
    "urls = getURLs()\n",
    "# for i in range(urls.__len__()):\n",
    "#     mainWork(browser, urls[i])"
   ]
  },
  {
   "cell_type": "code",
   "execution_count": null,
   "metadata": {},
   "outputs": [],
   "source": []
  }
 ],
 "metadata": {
  "kernelspec": {
   "display_name": "Python 3",
   "language": "python",
   "name": "python3"
  },
  "language_info": {
   "codemirror_mode": {
    "name": "ipython",
    "version": 3
   },
   "file_extension": ".py",
   "mimetype": "text/x-python",
   "name": "python",
   "nbconvert_exporter": "python",
   "pygments_lexer": "ipython3",
   "version": "3.6.5"
  }
 },
 "nbformat": 4,
 "nbformat_minor": 2
}
