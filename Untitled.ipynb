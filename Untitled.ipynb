{
 "cells": [
  {
   "cell_type": "code",
   "execution_count": 22,
   "metadata": {},
   "outputs": [],
   "source": [
    "from selenium import webdriver\n",
    "from selenium.webdriver.support.wait import WebDriverWait\n",
    "import time\n",
    "import json"
   ]
  },
  {
   "cell_type": "code",
   "execution_count": 14,
   "metadata": {},
   "outputs": [],
   "source": [
    "def getURLs():\n",
    "    url_strs = []\n",
    "    url_str_head = 'https://weibo.com/sinapapers?is_all=1&stat_date='\n",
    "    url_str_tail = '#feedtop'\n",
    "    for i in range(3):\n",
    "        year_index = 201600\n",
    "        month_max = 12\n",
    "        if i == 1:\n",
    "            year_index = 201700\n",
    "        elif i == 2:\n",
    "            year_index = 201800\n",
    "            month_max = 10\n",
    "        for month_index in range(month_max):\n",
    "            url_str_date = year_index + (month_index+1)\n",
    "            url_str = url_str_head + str(url_str_date) + url_str_tail\n",
    "            url_strs.append(url_str)\n",
    "    return url_strs"
   ]
  },
  {
   "cell_type": "code",
   "execution_count": 23,
   "metadata": {},
   "outputs": [],
   "source": [
    "def mainWork(browser, url):\n",
    "    browser.get(url)\n",
    "    browser.execute_script('window.scrollTo(0,document.body.scrollHeight)')\n",
    "    time.sleep(2)\n",
    "    browser.execute_script('window.scrollTo(0,document.body.scrollHeight)')\n",
    "    "
   ]
  },
  {
   "cell_type": "code",
   "execution_count": 24,
   "metadata": {},
   "outputs": [],
   "source": [
    "browser = webdriver.Chrome()\n",
    "browser.get('https://weibo.com/')\n",
    "with open('cookie/sina_cookies.txt') as f:\n",
    "    cookie = f.read()\n",
    "    cookie = json.loads(cookie)\n",
    "    for c in cookie:\n",
    "        browser.add_cookie(c)\n",
    "    f.close()\n",
    "urls = getURLs()\n",
    "mainWork(browser, urls[0])\n",
    "# for i in range(urls.__len__()):\n",
    "#     mainWork(browser, urls[i])"
   ]
  },
  {
   "cell_type": "code",
   "execution_count": null,
   "metadata": {},
   "outputs": [],
   "source": []
  }
 ],
 "metadata": {
  "kernelspec": {
   "display_name": "Python 3",
   "language": "python",
   "name": "python3"
  },
  "language_info": {
   "codemirror_mode": {
    "name": "ipython",
    "version": 3
   },
   "file_extension": ".py",
   "mimetype": "text/x-python",
   "name": "python",
   "nbconvert_exporter": "python",
   "pygments_lexer": "ipython3",
   "version": "3.6.5"
  }
 },
 "nbformat": 4,
 "nbformat_minor": 2
}
